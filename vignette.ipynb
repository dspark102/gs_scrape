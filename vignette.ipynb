{
 "cells": [
  {
   "cell_type": "code",
   "execution_count": 1,
   "metadata": {},
   "outputs": [],
   "source": [
    "# Example usages of gs_scrape package"
   ]
  },
  {
   "cell_type": "code",
   "execution_count": null,
   "metadata": {},
   "outputs": [],
   "source": [
    "# Import gs_scrape library\n",
    "\n",
    "from gs_scrape import gs_scrape "
   ]
  },
  {
   "cell_type": "code",
   "execution_count": 3,
   "metadata": {},
   "outputs": [],
   "source": [
    "# Let's assume that you are studying machine learning algorithm and whan to learn about general background of machine learrning. \n",
    "# The first and easy way to access the related publications is using GoogleScholar. It provides useful information for each publication \n",
    "# such as publciation id, title, author(s), locations of digital document, number of being cited and so on. \n",
    "# If you need to citation format, GoogleScholar provides a different types of citation examplew which is very useful to those who are not familiar with \n",
    "# specific citation formats. (e.g., APA)\n"
   ]
  },
  {
   "cell_type": "code",
   "execution_count": null,
   "metadata": {},
   "outputs": [],
   "source": [
    "# Let's start with initializing the GSscaper class.\n",
    "MLpub=gs_scrape.GSscraper() #Iinitialization"
   ]
  },
  {
   "cell_type": "code",
   "execution_count": null,
   "metadata": {},
   "outputs": [],
   "source": [
    "# Second, extract publication information using _gs_paper_content method\n",
    "# Let's assume that you you want to publications published in 2021 and two pages (10 publications per page)\n",
    "# If you change the search parameters on your demand. (year of publication, number of pages GoogleScholar provides)\n",
    "\n",
    "MLpub._gs_paper_content(q=\"machine learning\", year=2021, maxpage=2)\n",
    "# paper contents data are stored in .paperdata."
   ]
  },
  {
   "cell_type": "markdown",
   "metadata": {},
   "source": [
    "{'sBoxKwbXv3kJ': {'title': 'A guide to machine learning for biologists', 'author(s)': 'JG Greener, SM Kandathil, L Moffat…\\xa0- Nature Reviews Molecular\\xa0…, 2022 - nature.com', 'access': 'https://www.nature.com/articles/s41580-021-00407-0', 'numCited': '195'}, 'wQGG2asrl0cJ': {'title': 'Machine learning for alloys', 'author(s)': 'GLW Hart, T Mueller, C Toher, S Curtarolo\\xa0- Nature Reviews Materials, 2021 - nature.com', 'access': 'https://www.nature.com/articles/s41578-021-00340-w', 'numCited': '98'}, 'icjQbKVCRw4J': {'title': 'Findings on Teaching Machine Learning in High School: A Ten-Year Systematic Literature Review', 'author(s)': 'RM Martins, C Gresse Von Wangenheim\\xa0- Informatics in Education, 2022 - infedu.vu.lt', 'access': 'https://www.infedu.vu.lt/journal/INFEDU/article/742/info', 'numCited': '139'}, 'z1yquFXGutoJ': {'title': '[HTML][HTML] Machine learning and deep learning', 'author(s)': 'C Janiesch, P Zschech, K Heinrich\\xa0- Electronic Markets, 2021 - Springer', 'access': 'https://link.springer.com/article/10.1007/s12525-021-00475-2', 'numCited': '350'}, 'EQ8shYj8Ai8J': {'title': '[BOOK][B] Machine learning', 'author(s)': 'ZH Zhou - 2021 - books.google.com', 'access': 'https://books.google.com/books?hl=en&lr=&id=ctM-EAAAQBAJ&oi=fnd&pg=PR6&dq=machine+learning&ots=oZPiT6Wq-v&sig=n1zyQ7TD_36VWNduYWGEWKY4MTI', 'numCited': '1173'}, '1e_qgqy3IMYJ': {'title': 'Best practices in machine learning for chemistry', 'author(s)': 'N Artrith, KT Butler, FX Coudert, S Han, O Isayev…\\xa0- Nature\\xa0…, 2021 - nature.com', 'access': 'https://www.nature.com/articles/s41557-021-00716-z', 'numCited': '129'}, '__YkrHnA7hkJ': {'title': '[HTML][HTML] Coronavirus disease (COVID-19) cases analysis using machine-learning applications', 'author(s)': 'AS Kwekha-Rashid, HN Abduljabbar, B Alhayani\\xa0- Applied Nanoscience, 2021 - Springer', 'access': 'https://link.springer.com/article/10.1007/s13204-021-01868-7', 'numCited': '221'}, '8sd9PRFLNooJ': {'title': '[BOOK][B] Probabilistic machine learning: an introduction', 'author(s)': 'KP Murphy - 2022 - books.google.com', 'access': 'https://books.google.com/books?hl=en&lr=&id=wrZNEAAAQBAJ&oi=fnd&pg=PR27&dq=machine+learning&ots=L9scJDdhQp&sig=xpyX5Kx-h221Ww7jChHMumcB0k0', 'numCited': '237'}, '6AFBYl1fXa8J': {'title': '[HTML][HTML] Machine learning: Algorithms, real-world applications and research directions', 'author(s)': 'IH Sarker\\xa0- SN Computer Science, 2021 - Springer', 'access': 'https://link.springer.com/article/10.1007/s42979-021-00592-x', 'numCited': '617'}, 'uF8f8qUPojgJ': {'title': 'Enhancing computational fluid dynamics with machine learning', 'author(s)': 'R Vinuesa, SL Brunton\\xa0- Nature Computational Science, 2022 - nature.com', 'access': 'https://www.nature.com/articles/s43588-022-00264-7', 'numCited': '22'}, 'cntesuWfmPEJ': {'title': 'Navigating the pitfalls of applying machine learning in genomics', 'author(s)': 'S Whalen, J Schreiber, WS Noble…\\xa0- Nature Reviews Genetics, 2022 - nature.com', 'access': 'https://www.nature.com/articles/s41576-021-00434-9', 'numCited': '44'}, 'By6WZwjR8XwJ': {'title': 'Machine learning: new ideas and tools in environmental science and engineering', 'author(s)': 'S Zhong, K Zhang, M Bagheri, JG Burken…\\xa0- Environmental\\xa0…, 2021 - ACS Publications', 'access': 'https://pubs.acs.org/doi/abs/10.1021/acs.est.1c01339', 'numCited': '116'}, 'rdEq7DB1jdoJ': {'title': 'Challenges and opportunities in quantum machine learning', 'author(s)': 'M Cerezo, G Verdon, HY Huang, L Cincio…\\xa0- Nature Computational\\xa0…, 2022 - nature.com', 'access': 'https://www.nature.com/articles/s43588-022-00311-3', 'numCited': '11'}, 'B7noJcL2OLwJ': {'title': '[BOOK][B] Dataset shift in machine learning', 'author(s)': 'J Quinonero-Candela, M Sugiyama, A Schwaighofer… - 2022 - books.google.com', 'access': 'https://books.google.com/books?hl=en&lr=&id=MBZuEAAAQBAJ&oi=fnd&pg=PR9&dq=machine+learning&ots=f5VoeuHQ9Z&sig=QZz0VUCv5DD-_pAEUQDGWH7vzdA', 'numCited': '93'}, '8B9-ThTzRUkJ': {'title': 'Open-environment machine learning', 'author(s)': 'ZH Zhou\\xa0- National Science Review, 2022 - academic.oup.com', 'access': 'https://academic.oup.com/nsr/article-abstract/9/8/nwac123/6626031', 'numCited': '10'}, 'Np5fMs1fGz4J': {'title': 'Retiring adult: New datasets for fair machine learning', 'author(s)': 'F Ding, M Hardt, J Miller…\\xa0- Advances in Neural\\xa0…, 2021 - proceedings.neurips.cc', 'access': 'https://proceedings.neurips.cc/paper/2021/hash/32e54441e6382a7fbacbbbaf3c450059-Abstract.html', 'numCited': '83'}, 'z0jlnSbOQ5AJ': {'title': '[HTML][HTML] Swarm learning for decentralized and confidential clinical machine learning', 'author(s)': 'S Warnat-Herresthal, H Schultze, KL Shastry…\\xa0- Nature, 2021 - nature.com', 'access': 'https://www.nature.com/articles/s41586-021-03583-3', 'numCited': '212'}, 'ofIWcXZ7RawJ': {'title': 'Physics-informed machine learning', 'author(s)': 'GE Karniadakis, IG Kevrekidis, L Lu…\\xa0- Nature Reviews\\xa0…, 2021 - nature.com', 'access': 'https://www.nature.com/articles/s42254-021-00314-5', 'numCited': '938'}, 'wzMPeL1qSqsJ': {'title': '[PDF][PDF] The role of machine learning algorithms for diagnosing diseases', 'author(s)': 'I Ibrahim, A Abdulazeez\\xa0- Journal of Applied Science and Technology\\xa0…, 2021 - jastt.org', 'access': 'https://jastt.org/index.php/jasttpath/article/download/79/23', 'numCited': '65'}, 'FAaWRBuk8iEJ': {'title': '[HTML][HTML] Machine learning and computation-enabled intelligent sensor design', 'author(s)': 'Z Ballard, C Brown, AM Madni, A Ozcan\\xa0- Nature Machine Intelligence, 2021 - nature.com', 'access': 'https://www.nature.com/articles/s42256-021-00360-9', 'numCited': '44'}}"
   ]
  },
  {
   "cell_type": "code",
   "execution_count": null,
   "metadata": {},
   "outputs": [],
   "source": [
    "MLpub.paperdata\n",
    "list(MLpub.paperdata.keys())[0] # the publication id for the first paper (A guide to machine learning for biologists)"
   ]
  },
  {
   "cell_type": "markdown",
   "metadata": {},
   "source": [
    "'sBoxKwbXv3kJ'"
   ]
  },
  {
   "cell_type": "code",
   "execution_count": null,
   "metadata": {},
   "outputs": [],
   "source": [
    "# Third, using the publication id (which are obtained from the paperdata above), we can extract citations for the publication. \n",
    "# We can use get_citation() method. \n",
    "\n",
    "MLpub.get_citation(\"sBoxKwbXv3kJ\")\n",
    "\n",
    "MLpub.papercitation()"
   ]
  },
  {
   "cell_type": "markdown",
   "metadata": {},
   "source": [
    "Outout is something like this\n",
    "\n",
    "{<built-in function id>: {'Citation': {'MLA': 'Greener, Joe G., et al. \"A guide to machine learning for biologists.\" Nature Reviews Molecular Cell Biology 23.1 (2022): 40-55.', 'APA': 'Greener, J. G., Kandathil, S. M., Moffat, L., & Jones, D. T. (2022). A guide to machine learning for biologists. Nature Reviews Molecular Cell Biology, 23(1), 40-55.', 'Chicago': 'Greener, Joe G., Shaun M. Kandathil, Lewis Moffat, and David T. Jones. \"A guide to machine learning for biologists.\" Nature Reviews Molecular Cell Biology 23, no. 1 (2022): 40-55.', 'Harvard': 'Greener, J.G., Kandathil, S.M., Moffat, L. and Jones, D.T., 2022. A guide to machine learning for biologists. Nature Reviews Molecular Cell Biology, 23(1), pp.40-55.', 'Vancouver': 'Greener JG, Kandathil SM, Moffat L, Jones DT. A guide to machine learning for biologists. Nature Reviews Molecular Cell Biology. 2022 Jan;23(1):40-55.'}}}"
   ]
  },
  {
   "cell_type": "code",
   "execution_count": null,
   "metadata": {},
   "outputs": [],
   "source": [
    "# Lastly, you may want to know most cited publication among the extraced publications. \n",
    "# Using citation_graph() methods, you can get the horizontal bar graph of the number of being cited by publication.\n",
    "\n",
    "MLpub.citation_graph()"
   ]
  },
  {
   "cell_type": "markdown",
   "metadata": {},
   "source": [
    "This is a short introduction of the usage of this package. Hope you enjor your reserach work with GoogleScholar publication scraper!\n"
   ]
  },
  {
   "cell_type": "markdown",
   "metadata": {},
   "source": []
  }
 ],
 "metadata": {
  "kernelspec": {
   "display_name": "Python 3.9.12 64-bit ('3.9.12')",
   "language": "python",
   "name": "python3"
  },
  "language_info": {
   "codemirror_mode": {
    "name": "ipython",
    "version": 3
   },
   "file_extension": ".py",
   "mimetype": "text/x-python",
   "name": "python",
   "nbconvert_exporter": "python",
   "pygments_lexer": "ipython3",
   "version": "3.9.12"
  },
  "orig_nbformat": 4,
  "vscode": {
   "interpreter": {
    "hash": "dc515f95857a86841e34302fbda7ec9453de6a8d25c927842019b7fa4d8500a0"
   }
  }
 },
 "nbformat": 4,
 "nbformat_minor": 2
}
